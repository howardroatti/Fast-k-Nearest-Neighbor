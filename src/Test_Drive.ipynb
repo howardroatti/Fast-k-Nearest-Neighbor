{
 "cells": [
  {
   "cell_type": "code",
   "execution_count": 1,
   "metadata": {},
   "outputs": [],
   "source": [
    "import numpy as np\n",
    "from fkNN import fknn\n",
    "from joblib import dump, load\n",
    "\n",
    "from sklearn.feature_extraction.text import TfidfTransformer, CountVectorizer \n",
    "from sklearn.datasets import fetch_20newsgroups\n",
    "\n",
    "from sklearn.model_selection import train_test_split\n",
    "from sklearn.metrics import classification_report\n",
    "\n",
    "#from sklearn.datasets import load_iris, load_breast_cancer, load_diabetes, load_boston, load_wine, load_digits"
   ]
  },
  {
   "cell_type": "code",
   "execution_count": 2,
   "metadata": {},
   "outputs": [
    {
     "name": "stdout",
     "output_type": "stream",
     "text": [
      "(2257, 35788)\n",
      "['alt.atheism', 'comp.graphics', 'sci.med', 'soc.religion.christian']\n"
     ]
    }
   ],
   "source": [
    "'''\n",
    "categories = ['alt.atheism', \n",
    "              'comp.graphics', \n",
    "              'comp.os.ms-windows.misc', \n",
    "              'comp.sys.ibm.pc.hardware', \n",
    "              'comp.sys.mac.hardware', \n",
    "              'comp.windows.x', \n",
    "              #'misc.forsale', \n",
    "              #'rec.autos', \n",
    "              #'rec.motorcycles', \n",
    "              #'rec.sport.baseball', \n",
    "              #'rec.sport.hockey', \n",
    "              'sci.crypt', \n",
    "              'sci.electronics', \n",
    "              'sci.med', \n",
    "              'sci.space', \n",
    "              'soc.religion.christian', \n",
    "              #'talk.politics.guns', \n",
    "              #'talk.politics.mideast', \n",
    "              #'talk.politics.misc', \n",
    "              #'talk.religion.misc'\n",
    "             ]'''\n",
    "categories = ['alt.atheism', 'soc.religion.christian', 'comp.graphics', 'sci.med']\n",
    "twenty_train = fetch_20newsgroups(subset='train', categories=categories, shuffle=True, random_state=42)\n",
    "#twenty_train = fetch_20newsgroups(subset='train', shuffle=True, random_state=42)\n",
    "y = twenty_train.target\n",
    "\n",
    "count_vect = CountVectorizer()\n",
    "X_train_counts = count_vect.fit_transform(twenty_train.data)\n",
    "\n",
    "tfidf_transformer = TfidfTransformer()\n",
    "X = tfidf_transformer.fit_transform(X_train_counts).todense()\n",
    "print(X.shape)\n",
    "print(twenty_train.target_names)\n",
    "\n",
    "del twenty_train\n",
    "del count_vect\n",
    "del X_train_counts\n",
    "del tfidf_transformer"
   ]
  },
  {
   "cell_type": "markdown",
   "metadata": {},
   "source": [
    "X = [[1, 2], \n",
    "     [1, 4], \n",
    "     [1, 0],\n",
    "     [10, 2], \n",
    "     [10, 4], \n",
    "     [10, 0],\n",
    "     [33, 2], \n",
    "     [33, 4], \n",
    "     [33, 0]\n",
    "     ]\n",
    "\n",
    "y = [0,1,2,2,0,1,0,2,1]"
   ]
  },
  {
   "cell_type": "code",
   "execution_count": 3,
   "metadata": {},
   "outputs": [],
   "source": [
    "local_random_state = 123321"
   ]
  },
  {
   "cell_type": "code",
   "execution_count": 4,
   "metadata": {},
   "outputs": [],
   "source": [
    "modelo = fknn(alpha=0.001, \n",
    "              decisionLevel='L0', \n",
    "              n_jobs=None, \n",
    "              cluster_method='kmeans', \n",
    "              n_clusters=4, \n",
    "              verbose=0, \n",
    "              random_state=local_random_state)"
   ]
  },
  {
   "cell_type": "code",
   "execution_count": 5,
   "metadata": {},
   "outputs": [],
   "source": [
    "X_train, X_test, y_train, y_test = train_test_split= train_test_split(X, y, test_size=.3, random_state=local_random_state, )"
   ]
  },
  {
   "cell_type": "code",
   "execution_count": 6,
   "metadata": {
    "scrolled": true
   },
   "outputs": [
    {
     "data": {
      "text/plain": [
       "fknn(L=5, alpha=0.001, cluster_method='kmeans', decisionLevel='L0', k=5,\n",
       "   n_clusters=4, n_jobs=None, random_state=123321, verbose=0)"
      ]
     },
     "execution_count": 6,
     "metadata": {},
     "output_type": "execute_result"
    }
   ],
   "source": [
    "#modelo.fit(X, y)\n",
    "modelo.fit(X_train, y_train)"
   ]
  },
  {
   "cell_type": "code",
   "execution_count": 7,
   "metadata": {},
   "outputs": [
    {
     "data": {
      "text/plain": [
       "['fknn.pkl']"
      ]
     },
     "execution_count": 7,
     "metadata": {},
     "output_type": "execute_result"
    }
   ],
   "source": [
    "dump(modelo, 'fknn.pkl', compress='zlib')"
   ]
  },
  {
   "cell_type": "code",
   "execution_count": 8,
   "metadata": {},
   "outputs": [
    {
     "name": "stdout",
     "output_type": "stream",
     "text": [
      "91.813790 seconds to building tree\n"
     ]
    }
   ],
   "source": [
    "print(\"%f seconds to building tree\" % modelo.timeToBuilding)"
   ]
  },
  {
   "cell_type": "markdown",
   "metadata": {},
   "source": [
    "modelo.showHyperlevel()"
   ]
  },
  {
   "cell_type": "code",
   "execution_count": 9,
   "metadata": {},
   "outputs": [
    {
     "data": {
      "text/plain": [
       "{'L': 5,\n",
       " 'alpha': 0.001,\n",
       " 'cluster_method': 'kmeans',\n",
       " 'decisionLevel': 'L0',\n",
       " 'k': 5,\n",
       " 'n_clusters': 4,\n",
       " 'n_jobs': None,\n",
       " 'random_state': 123321,\n",
       " 'verbose': 0}"
      ]
     },
     "execution_count": 9,
     "metadata": {},
     "output_type": "execute_result"
    }
   ],
   "source": [
    "modelo.get_params()"
   ]
  },
  {
   "cell_type": "code",
   "execution_count": 10,
   "metadata": {},
   "outputs": [
    {
     "name": "stdout",
     "output_type": "stream",
     "text": [
      "Total time to classifying: 180.6565404000007\n",
      "             precision    recall  f1-score   support\n",
      "\n",
      "          0       0.48      0.91      0.63       138\n",
      "          1       0.93      0.26      0.41       165\n",
      "          2       0.77      0.72      0.74       176\n",
      "          3       0.78      0.80      0.79       199\n",
      "\n",
      "avg / total       0.75      0.67      0.65       678\n",
      "\n"
     ]
    }
   ],
   "source": [
    "preds = modelo.predict(X_test)\n",
    "print(classification_report(y_test, preds))"
   ]
  },
  {
   "cell_type": "code",
   "execution_count": 11,
   "metadata": {},
   "outputs": [
    {
     "name": "stdout",
     "output_type": "stream",
     "text": [
      "0.266455 average seconds to categorize\n"
     ]
    }
   ],
   "source": [
    "print(\"%f average seconds to categorize\" % modelo.timeToClassifying)"
   ]
  },
  {
   "cell_type": "markdown",
   "metadata": {},
   "source": [
    "# Tempo de Carregamento do Binário do Modelo\n",
    "<p> Ref: <a href='https://joblib.readthedocs.io/en/latest/auto_examples/compressors_comparison.html#sphx-glr-auto-examples-compressors-comparison-py'> https://joblib.readthedocs.io/en/latest/auto_examples/compressors_comparison.html#sphx-glr-auto-examples-compressors-comparison-py </a></p>"
   ]
  },
  {
   "cell_type": "code",
   "execution_count": 12,
   "metadata": {},
   "outputs": [
    {
     "name": "stdout",
     "output_type": "stream",
     "text": [
      "Zlib load duration: 0.018s\n"
     ]
    }
   ],
   "source": [
    "import time\n",
    "\n",
    "pickle_file = 'fknn.pkl'\n",
    "\n",
    "start = time.time()\n",
    "with open(pickle_file, 'rb') as f:\n",
    "    load(f)\n",
    "zlib_load_duration = time.time() - start\n",
    "print(\"Zlib load duration: %0.3fs\" % zlib_load_duration)"
   ]
  }
 ],
 "metadata": {
  "kernelspec": {
   "display_name": "Python 3",
   "language": "python",
   "name": "python3"
  },
  "language_info": {
   "codemirror_mode": {
    "name": "ipython",
    "version": 3
   },
   "file_extension": ".py",
   "mimetype": "text/x-python",
   "name": "python",
   "nbconvert_exporter": "python",
   "pygments_lexer": "ipython3",
   "version": "3.8.5"
  }
 },
 "nbformat": 4,
 "nbformat_minor": 2
}
